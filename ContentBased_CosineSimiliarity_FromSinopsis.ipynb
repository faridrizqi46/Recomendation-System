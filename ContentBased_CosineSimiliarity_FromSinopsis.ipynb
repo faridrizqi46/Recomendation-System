{
 "cells": [
  {
   "cell_type": "code",
   "execution_count": 4,
   "id": "8fec6c83-9116-44a3-8d12-694e85fcf9f3",
   "metadata": {},
   "outputs": [],
   "source": [
    "import pandas as pd\n",
    "from sklearn.feature_extraction.text import TfidfVectorizer"
   ]
  },
  {
   "cell_type": "code",
   "execution_count": 36,
   "id": "2bec5fdf-e9f3-4bed-a74f-c204f7cbda9e",
   "metadata": {},
   "outputs": [],
   "source": [
    "md = pd.read_csv('Dataset/movies_metadata.csv',low_memory=False)"
   ]
  },
  {
   "cell_type": "code",
   "execution_count": 37,
   "id": "676c136c-894f-49f2-a085-f6b9ecb8210d",
   "metadata": {},
   "outputs": [],
   "source": [
    "# Take 20000 Sample, Cause Local machine unable to allocate full data\n",
    "md = md.head(20000)"
   ]
  },
  {
   "cell_type": "code",
   "execution_count": 38,
   "id": "806453f0-57cd-466a-b8de-0616c1f75c6b",
   "metadata": {},
   "outputs": [
    {
     "data": {
      "text/plain": [
       "12860                            A Moment to Remember\n",
       "4932                                          Seconds\n",
       "16146                                      Feet First\n",
       "1830                      The Best Years of Our Lives\n",
       "8374                                         Dead End\n",
       "1734                                          Illtown\n",
       "11563                                       Red Angel\n",
       "3481                                The Gay Deceivers\n",
       "13463    I Manegen med Glenn Killing: Live från Berns\n",
       "1868               Friday the 13th: The Final Chapter\n",
       "Name: title, dtype: object"
      ]
     },
     "execution_count": 38,
     "metadata": {},
     "output_type": "execute_result"
    }
   ],
   "source": [
    "md['title'].sample(10)"
   ]
  },
  {
   "cell_type": "code",
   "execution_count": 39,
   "id": "dd3a3ffd-2991-40b4-8f25-cd6eef198357",
   "metadata": {},
   "outputs": [
    {
     "data": {
      "text/plain": [
       "0    Led by Woody, Andy's toys live happily in his ...\n",
       "1    When siblings Judy and Peter discover an encha...\n",
       "2    A family wedding reignites the ancient feud be...\n",
       "3    Cheated on, mistreated and stepped on, the wom...\n",
       "4    Just when George Banks has recovered from his ...\n",
       "Name: overview, dtype: object"
      ]
     },
     "execution_count": 39,
     "metadata": {},
     "output_type": "execute_result"
    }
   ],
   "source": [
    "md['overview'].head()"
   ]
  },
  {
   "cell_type": "code",
   "execution_count": 40,
   "id": "eac48942-21f6-4a35-a8af-4e2494242410",
   "metadata": {},
   "outputs": [],
   "source": [
    "#Define a TF-IDF Vectorizer Object. Remove all english stop words such as 'the', 'a'\n",
    "tfidf = TfidfVectorizer(stop_words='english')"
   ]
  },
  {
   "cell_type": "code",
   "execution_count": 41,
   "id": "7648eebb-236b-4964-8733-18d75c526b3e",
   "metadata": {},
   "outputs": [],
   "source": [
    "#Replace NaN with an empty string\n",
    "md['overview'] = md['overview'].fillna('')"
   ]
  },
  {
   "cell_type": "code",
   "execution_count": 42,
   "id": "bdef0934-509c-4bb5-bfc0-cd014ae3b9a2",
   "metadata": {},
   "outputs": [],
   "source": [
    "#Construct the required TF-IDF matrix by fitting and transforming the data\n",
    "tfidf_matrix = tfidf.fit_transform(md['overview'])"
   ]
  },
  {
   "cell_type": "code",
   "execution_count": 43,
   "id": "bd2c8bbf-c7d8-42e2-a06c-94a9771fc819",
   "metadata": {},
   "outputs": [
    {
     "data": {
      "text/plain": [
       "(20000, 47487)"
      ]
     },
     "execution_count": 43,
     "metadata": {},
     "output_type": "execute_result"
    }
   ],
   "source": [
    "tfidf_matrix.shape"
   ]
  },
  {
   "cell_type": "markdown",
   "id": "97f766ed-d4d6-4ae0-ab96-4cb567dcd4cf",
   "metadata": {},
   "source": [
    "Since you have used the TF-IDF vectorizer, calculating the dot product between each vector will directly give you the cosine similarity score. Therefore, you will use sklearn's linear_kernel() instead of cosine_similarities() since it is faster."
   ]
  },
  {
   "cell_type": "code",
   "execution_count": 44,
   "id": "a38d8a66-4df4-4b59-b3a7-4fdb12fa44b3",
   "metadata": {},
   "outputs": [],
   "source": [
    "# Import linear_kernel\n",
    "from sklearn.metrics.pairwise import linear_kernel\n",
    "\n",
    "# Compute the cosine similarity matrix\n",
    "cosine_sim = linear_kernel(tfidf_matrix, tfidf_matrix)"
   ]
  },
  {
   "cell_type": "code",
   "execution_count": 45,
   "id": "826776d3-2822-48b5-b96d-62cf97040b81",
   "metadata": {},
   "outputs": [
    {
     "data": {
      "text/plain": [
       "(20000, 20000)"
      ]
     },
     "execution_count": 45,
     "metadata": {},
     "output_type": "execute_result"
    }
   ],
   "source": [
    "cosine_sim.shape"
   ]
  },
  {
   "cell_type": "code",
   "execution_count": 46,
   "id": "37e73d2a-1d58-450a-99ee-310f3c12d773",
   "metadata": {},
   "outputs": [
    {
     "data": {
      "text/plain": [
       "array([0.01575748, 1.        , 0.04907345, ..., 0.        , 0.        ,\n",
       "       0.        ])"
      ]
     },
     "execution_count": 46,
     "metadata": {},
     "output_type": "execute_result"
    }
   ],
   "source": [
    "cosine_sim[1]"
   ]
  },
  {
   "cell_type": "code",
   "execution_count": 47,
   "id": "c03144c9-944a-4355-8fb2-4282c826f3f0",
   "metadata": {},
   "outputs": [],
   "source": [
    "#Construct a reverse map of indices and movie titles\n",
    "indices = pd.Series(md.index, index=md['title']).drop_duplicates()"
   ]
  },
  {
   "cell_type": "code",
   "execution_count": 48,
   "id": "70784e73-8288-4297-838a-e6f35951e982",
   "metadata": {},
   "outputs": [
    {
     "data": {
      "text/plain": [
       "title\n",
       "Toy Story                      0\n",
       "Jumanji                        1\n",
       "Grumpier Old Men               2\n",
       "Waiting to Exhale              3\n",
       "Father of the Bride Part II    4\n",
       "Heat                           5\n",
       "Sabrina                        6\n",
       "Tom and Huck                   7\n",
       "Sudden Death                   8\n",
       "GoldenEye                      9\n",
       "dtype: int64"
      ]
     },
     "execution_count": 48,
     "metadata": {},
     "output_type": "execute_result"
    }
   ],
   "source": [
    "indices[:10]"
   ]
  },
  {
   "cell_type": "code",
   "execution_count": 49,
   "id": "5d07c08b-26c9-4ff5-b6fa-76cd8aca066c",
   "metadata": {},
   "outputs": [],
   "source": [
    "# Function that takes in movie title as input and outputs most similar movies\n",
    "def get_recommendations(title, cosine_sim=cosine_sim):\n",
    "    # Get the index of the movie that matches the title\n",
    "    idx = indices[title]\n",
    "\n",
    "    # Get the pairwsie similarity scores of all movies with that movie\n",
    "    sim_scores = list(enumerate(cosine_sim[idx]))\n",
    "\n",
    "    # Sort the movies based on the similarity scores\n",
    "    sim_scores = sorted(sim_scores, key=lambda x: x[1], reverse=True)\n",
    "\n",
    "    # Get the scores of the 10 most similar movies\n",
    "    sim_scores = sim_scores[1:11]\n",
    "\n",
    "    # Get the movie indices\n",
    "    movie_indices = [i[0] for i in sim_scores]\n",
    "\n",
    "    # Return the top 10 most similar movies\n",
    "    return md['title'].iloc[movie_indices]"
   ]
  },
  {
   "cell_type": "code",
   "execution_count": 71,
   "id": "d4f664ce-6806-4bd3-a2f0-66e654cf4188",
   "metadata": {},
   "outputs": [
    {
     "data": {
      "text/plain": [
       "'Curse of the Pink Panther'"
      ]
     },
     "execution_count": 71,
     "metadata": {},
     "output_type": "execute_result"
    }
   ],
   "source": [
    "film = md['title'].sample(1).values[0]\n",
    "film"
   ]
  },
  {
   "cell_type": "code",
   "execution_count": 72,
   "id": "a698a11a-6826-4c2f-832b-244d169b040a",
   "metadata": {},
   "outputs": [
    {
     "data": {
      "text/plain": [
       "7869        Revenge of the Pink Panther\n",
       "10860                Inspector Clouseau\n",
       "6514     The Pink Panther Strikes Again\n",
       "6005          Trail of the Pink Panther\n",
       "10793                  The Pink Panther\n",
       "13460                The Pink Panther 2\n",
       "10861           Son of the Pink Panther\n",
       "1090     The Return of the Pink Panther\n",
       "12408                 Definitely, Maybe\n",
       "4810               The First Deadly Sin\n",
       "Name: title, dtype: object"
      ]
     },
     "execution_count": 72,
     "metadata": {},
     "output_type": "execute_result"
    }
   ],
   "source": [
    "get_recommendations(film)"
   ]
  },
  {
   "cell_type": "code",
   "execution_count": null,
   "id": "57a1fa01-fa14-4758-b7f9-4cf9b9d01d2e",
   "metadata": {},
   "outputs": [],
   "source": []
  }
 ],
 "metadata": {
  "kernelspec": {
   "display_name": "Python 3 (ipykernel)",
   "language": "python",
   "name": "python3"
  },
  "language_info": {
   "codemirror_mode": {
    "name": "ipython",
    "version": 3
   },
   "file_extension": ".py",
   "mimetype": "text/x-python",
   "name": "python",
   "nbconvert_exporter": "python",
   "pygments_lexer": "ipython3",
   "version": "3.7.9"
  }
 },
 "nbformat": 4,
 "nbformat_minor": 5
}
