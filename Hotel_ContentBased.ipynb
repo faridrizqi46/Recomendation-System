{
 "cells": [
  {
   "cell_type": "code",
   "execution_count": 1,
   "id": "076782b5-f5b4-4b97-8d4b-a7aecb49f2c7",
   "metadata": {},
   "outputs": [],
   "source": [
    "import pandas as pd\n",
    "import numpy as np\n",
    "from sklearn.metrics.pairwise import cosine_similarity\n",
    "from sklearn.feature_extraction.text import TfidfVectorizer\n",
    "from nltk.corpus import stopwords\n",
    "import re\n",
    "import random"
   ]
  },
  {
   "cell_type": "code",
   "execution_count": 2,
   "id": "9ccb1597-eb19-406b-bd10-197d9867a1ef",
   "metadata": {},
   "outputs": [],
   "source": [
    "df = pd.read_csv('https://raw.githubusercontent.com/novindrap07/recom_system/master/dataset/hotel_bandung_english.csv')"
   ]
  },
  {
   "cell_type": "code",
   "execution_count": 3,
   "id": "7b6a3c6d-fd3a-4202-a97f-1616fd27c9ae",
   "metadata": {},
   "outputs": [
    {
     "data": {
      "text/html": [
       "<div>\n",
       "<style scoped>\n",
       "    .dataframe tbody tr th:only-of-type {\n",
       "        vertical-align: middle;\n",
       "    }\n",
       "\n",
       "    .dataframe tbody tr th {\n",
       "        vertical-align: top;\n",
       "    }\n",
       "\n",
       "    .dataframe thead th {\n",
       "        text-align: right;\n",
       "    }\n",
       "</style>\n",
       "<table border=\"1\" class=\"dataframe\">\n",
       "  <thead>\n",
       "    <tr style=\"text-align: right;\">\n",
       "      <th></th>\n",
       "      <th>name</th>\n",
       "      <th>address</th>\n",
       "      <th>description</th>\n",
       "    </tr>\n",
       "  </thead>\n",
       "  <tbody>\n",
       "    <tr>\n",
       "      <th>0</th>\n",
       "      <td>Capital O 253 Topas Galeria Hotel</td>\n",
       "      <td>Jl. Dr. Djundjunan No. 153, 40173 Bandung, Ind...</td>\n",
       "      <td>A 10-minute drive from Bandung Airport, Topas ...</td>\n",
       "    </tr>\n",
       "    <tr>\n",
       "      <th>1</th>\n",
       "      <td>Sheraton Bandung Hotel &amp; Towers</td>\n",
       "      <td>Jl. Ir H Juanda 390, 40135 Bandung, Indonesia</td>\n",
       "      <td>Sheraton Hotel &amp; Towers offers 5-star accommod...</td>\n",
       "    </tr>\n",
       "    <tr>\n",
       "      <th>2</th>\n",
       "      <td>OYO 794 Ln 9 Bandung Residence</td>\n",
       "      <td>Jalan Lemahnendeut No 9, Sukajadi, 40164 Bandu...</td>\n",
       "      <td>Conveniently located in Sukajadi, Bandung, OYO...</td>\n",
       "    </tr>\n",
       "    <tr>\n",
       "      <th>3</th>\n",
       "      <td>OYO 226 LJ hotel</td>\n",
       "      <td>Jl. Malabar No.2, Malabar, Lengkong, Dago, Asi...</td>\n",
       "      <td>Featuring a shared lounge, OYO 226 LJ hotel is...</td>\n",
       "    </tr>\n",
       "    <tr>\n",
       "      <th>4</th>\n",
       "      <td>OYO 230 Maleo Residence</td>\n",
       "      <td>JI. Dangeur Indah II No. 15, Sukagalih, Sukaja...</td>\n",
       "      <td>Attractively set in the Sukajadi district of B...</td>\n",
       "    </tr>\n",
       "  </tbody>\n",
       "</table>\n",
       "</div>"
      ],
      "text/plain": [
       "                                name  \\\n",
       "0  Capital O 253 Topas Galeria Hotel   \n",
       "1    Sheraton Bandung Hotel & Towers   \n",
       "2     OYO 794 Ln 9 Bandung Residence   \n",
       "3                   OYO 226 LJ hotel   \n",
       "4            OYO 230 Maleo Residence   \n",
       "\n",
       "                                             address  \\\n",
       "0  Jl. Dr. Djundjunan No. 153, 40173 Bandung, Ind...   \n",
       "1      Jl. Ir H Juanda 390, 40135 Bandung, Indonesia   \n",
       "2  Jalan Lemahnendeut No 9, Sukajadi, 40164 Bandu...   \n",
       "3  Jl. Malabar No.2, Malabar, Lengkong, Dago, Asi...   \n",
       "4  JI. Dangeur Indah II No. 15, Sukagalih, Sukaja...   \n",
       "\n",
       "                                         description  \n",
       "0  A 10-minute drive from Bandung Airport, Topas ...  \n",
       "1  Sheraton Hotel & Towers offers 5-star accommod...  \n",
       "2  Conveniently located in Sukajadi, Bandung, OYO...  \n",
       "3  Featuring a shared lounge, OYO 226 LJ hotel is...  \n",
       "4  Attractively set in the Sukajadi district of B...  "
      ]
     },
     "execution_count": 3,
     "metadata": {},
     "output_type": "execute_result"
    }
   ],
   "source": [
    "df.head()"
   ]
  },
  {
   "cell_type": "code",
   "execution_count": 4,
   "id": "ea1b19ac-1e23-4c0e-af85-3496d1dd1617",
   "metadata": {},
   "outputs": [
    {
     "data": {
      "text/html": [
       "<div>\n",
       "<style scoped>\n",
       "    .dataframe tbody tr th:only-of-type {\n",
       "        vertical-align: middle;\n",
       "    }\n",
       "\n",
       "    .dataframe tbody tr th {\n",
       "        vertical-align: top;\n",
       "    }\n",
       "\n",
       "    .dataframe thead th {\n",
       "        text-align: right;\n",
       "    }\n",
       "</style>\n",
       "<table border=\"1\" class=\"dataframe\">\n",
       "  <thead>\n",
       "    <tr style=\"text-align: right;\">\n",
       "      <th></th>\n",
       "      <th>name</th>\n",
       "      <th>address</th>\n",
       "      <th>description</th>\n",
       "    </tr>\n",
       "  </thead>\n",
       "  <tbody>\n",
       "    <tr>\n",
       "      <th>count</th>\n",
       "      <td>105</td>\n",
       "      <td>105</td>\n",
       "      <td>105</td>\n",
       "    </tr>\n",
       "    <tr>\n",
       "      <th>unique</th>\n",
       "      <td>101</td>\n",
       "      <td>102</td>\n",
       "      <td>103</td>\n",
       "    </tr>\n",
       "    <tr>\n",
       "      <th>top</th>\n",
       "      <td>OYO 794 Ln 9 Bandung Residence</td>\n",
       "      <td>Jalan Lemahnendeut No 9, Sukajadi, 40164 Bandu...</td>\n",
       "      <td>Conveniently located in Sukajadi, Bandung, OYO...</td>\n",
       "    </tr>\n",
       "    <tr>\n",
       "      <th>freq</th>\n",
       "      <td>3</td>\n",
       "      <td>3</td>\n",
       "      <td>2</td>\n",
       "    </tr>\n",
       "  </tbody>\n",
       "</table>\n",
       "</div>"
      ],
      "text/plain": [
       "                                  name  \\\n",
       "count                              105   \n",
       "unique                             101   \n",
       "top     OYO 794 Ln 9 Bandung Residence   \n",
       "freq                                 3   \n",
       "\n",
       "                                                  address  \\\n",
       "count                                                 105   \n",
       "unique                                                102   \n",
       "top     Jalan Lemahnendeut No 9, Sukajadi, 40164 Bandu...   \n",
       "freq                                                    3   \n",
       "\n",
       "                                              description  \n",
       "count                                                 105  \n",
       "unique                                                103  \n",
       "top     Conveniently located in Sukajadi, Bandung, OYO...  \n",
       "freq                                                    2  "
      ]
     },
     "execution_count": 4,
     "metadata": {},
     "output_type": "execute_result"
    }
   ],
   "source": [
    "df.describe()"
   ]
  },
  {
   "cell_type": "code",
   "execution_count": 5,
   "id": "664a1f02-e721-40a2-a509-750c78cc1740",
   "metadata": {},
   "outputs": [],
   "source": [
    "def print_description(index):\n",
    "    example = df[df.index == index][['description', 'name', 'address']].values[0]\n",
    "    if len(example) > 0:\n",
    "        print(example[0])\n",
    "        print('Nama:', example[1])\n",
    "        print('Alamat:', example[2])  "
   ]
  },
  {
   "cell_type": "code",
   "execution_count": 6,
   "id": "f473d6a4-7ec9-4e31-be0a-6e5682fe63b0",
   "metadata": {},
   "outputs": [
    {
     "name": "stdout",
     "output_type": "stream",
     "text": [
      "Attractively set in the Sukajadi district of Bandung, OYO 230 Maleo Residence is located 3.7 km from Villa Isola, 4.7 km from Cihampelas Walk and 5.8 km from Stasiun Hall Bus Terminal. The property is around 6 km from Gedung Sate, 8 km from Riau Street and 8 km from Braga City Walk. Free WiFi and a 24-hour front desk are offered. At the hotel, rooms include a desk. Complete with a private bathroom equipped with a bath and free toiletries, the rooms at OYO 230 Maleo Residence have a flat-screen TV and air conditioning, and certain rooms have a balcony. The nearest airport is Husein Sastranegara Airport, 2.7 km from the accommodation. Sukajadi is a great choice for travelers interested in culturally diverse food, scenery and food shopping.\n",
      "Nama: OYO 230 Maleo Residence\n",
      "Alamat: JI. Dangeur Indah II No. 15, Sukagalih, Sukajadi, Pasteur, Sukajadi, 40163 Bandung, Indonesia\n"
     ]
    }
   ],
   "source": [
    "print_description(4)"
   ]
  },
  {
   "cell_type": "code",
   "execution_count": 7,
   "id": "0e4a23d7-c85c-4f44-a88c-c2ff009ad380",
   "metadata": {},
   "outputs": [],
   "source": [
    "clean_spcl = re.compile('[/(){}\\[\\]\\|@,;]')\n",
    "clean_symbol = re.compile('[^0-9a-z #+_]')\n",
    "stopworda = set(stopwords.words('english'))\n",
    "\n",
    "def clean_text(text):\n",
    "    text = text.lower() # lowercase text\n",
    "    text = clean_spcl.sub(' ', text)\n",
    "    text = clean_symbol.sub('', text)\n",
    "    text = ' '.join(word for word in text.split() if word not in stopworda) # hapus stopword dari kolom deskripsi\n",
    "    return text\n",
    "\n",
    "# Buat kolom tambahan untuk data description yang telah dibersihkan   \n",
    "df['desc_clean'] = df['description'].apply(clean_text)"
   ]
  },
  {
   "cell_type": "code",
   "execution_count": 8,
   "id": "eaa9a629-db74-45e4-8dbb-4c6eed9d1c15",
   "metadata": {},
   "outputs": [
    {
     "data": {
      "text/html": [
       "<div>\n",
       "<style scoped>\n",
       "    .dataframe tbody tr th:only-of-type {\n",
       "        vertical-align: middle;\n",
       "    }\n",
       "\n",
       "    .dataframe tbody tr th {\n",
       "        vertical-align: top;\n",
       "    }\n",
       "\n",
       "    .dataframe thead th {\n",
       "        text-align: right;\n",
       "    }\n",
       "</style>\n",
       "<table border=\"1\" class=\"dataframe\">\n",
       "  <thead>\n",
       "    <tr style=\"text-align: right;\">\n",
       "      <th></th>\n",
       "      <th>name</th>\n",
       "      <th>address</th>\n",
       "      <th>description</th>\n",
       "      <th>desc_clean</th>\n",
       "    </tr>\n",
       "  </thead>\n",
       "  <tbody>\n",
       "    <tr>\n",
       "      <th>0</th>\n",
       "      <td>Capital O 253 Topas Galeria Hotel</td>\n",
       "      <td>Jl. Dr. Djundjunan No. 153, 40173 Bandung, Ind...</td>\n",
       "      <td>A 10-minute drive from Bandung Airport, Topas ...</td>\n",
       "      <td>10minute drive bandung airport topas galeria h...</td>\n",
       "    </tr>\n",
       "    <tr>\n",
       "      <th>1</th>\n",
       "      <td>Sheraton Bandung Hotel &amp; Towers</td>\n",
       "      <td>Jl. Ir H Juanda 390, 40135 Bandung, Indonesia</td>\n",
       "      <td>Sheraton Hotel &amp; Towers offers 5-star accommod...</td>\n",
       "      <td>sheraton hotel towers offers 5star accommodati...</td>\n",
       "    </tr>\n",
       "    <tr>\n",
       "      <th>2</th>\n",
       "      <td>OYO 794 Ln 9 Bandung Residence</td>\n",
       "      <td>Jalan Lemahnendeut No 9, Sukajadi, 40164 Bandu...</td>\n",
       "      <td>Conveniently located in Sukajadi, Bandung, OYO...</td>\n",
       "      <td>conveniently located sukajadi bandung oyo 794 ...</td>\n",
       "    </tr>\n",
       "    <tr>\n",
       "      <th>3</th>\n",
       "      <td>OYO 226 LJ hotel</td>\n",
       "      <td>Jl. Malabar No.2, Malabar, Lengkong, Dago, Asi...</td>\n",
       "      <td>Featuring a shared lounge, OYO 226 LJ hotel is...</td>\n",
       "      <td>featuring shared lounge oyo 226 lj hotel locat...</td>\n",
       "    </tr>\n",
       "    <tr>\n",
       "      <th>4</th>\n",
       "      <td>OYO 230 Maleo Residence</td>\n",
       "      <td>JI. Dangeur Indah II No. 15, Sukagalih, Sukaja...</td>\n",
       "      <td>Attractively set in the Sukajadi district of B...</td>\n",
       "      <td>attractively set sukajadi district bandung oyo...</td>\n",
       "    </tr>\n",
       "  </tbody>\n",
       "</table>\n",
       "</div>"
      ],
      "text/plain": [
       "                                name  \\\n",
       "0  Capital O 253 Topas Galeria Hotel   \n",
       "1    Sheraton Bandung Hotel & Towers   \n",
       "2     OYO 794 Ln 9 Bandung Residence   \n",
       "3                   OYO 226 LJ hotel   \n",
       "4            OYO 230 Maleo Residence   \n",
       "\n",
       "                                             address  \\\n",
       "0  Jl. Dr. Djundjunan No. 153, 40173 Bandung, Ind...   \n",
       "1      Jl. Ir H Juanda 390, 40135 Bandung, Indonesia   \n",
       "2  Jalan Lemahnendeut No 9, Sukajadi, 40164 Bandu...   \n",
       "3  Jl. Malabar No.2, Malabar, Lengkong, Dago, Asi...   \n",
       "4  JI. Dangeur Indah II No. 15, Sukagalih, Sukaja...   \n",
       "\n",
       "                                         description  \\\n",
       "0  A 10-minute drive from Bandung Airport, Topas ...   \n",
       "1  Sheraton Hotel & Towers offers 5-star accommod...   \n",
       "2  Conveniently located in Sukajadi, Bandung, OYO...   \n",
       "3  Featuring a shared lounge, OYO 226 LJ hotel is...   \n",
       "4  Attractively set in the Sukajadi district of B...   \n",
       "\n",
       "                                          desc_clean  \n",
       "0  10minute drive bandung airport topas galeria h...  \n",
       "1  sheraton hotel towers offers 5star accommodati...  \n",
       "2  conveniently located sukajadi bandung oyo 794 ...  \n",
       "3  featuring shared lounge oyo 226 lj hotel locat...  \n",
       "4  attractively set sukajadi district bandung oyo...  "
      ]
     },
     "execution_count": 8,
     "metadata": {},
     "output_type": "execute_result"
    }
   ],
   "source": [
    "df.head()"
   ]
  },
  {
   "cell_type": "code",
   "execution_count": 9,
   "id": "0d379d50-ff71-4402-8573-5a1758c4823b",
   "metadata": {},
   "outputs": [
    {
     "data": {
      "text/plain": [
       "array([[1.        , 0.02250818, 0.01254879, ..., 0.01044102, 0.04017144,\n",
       "        0.03531754],\n",
       "       [0.02250818, 1.        , 0.01040992, ..., 0.01269843, 0.02856891,\n",
       "        0.01847406],\n",
       "       [0.01254879, 0.01040992, 1.        , ..., 0.12575247, 0.01082423,\n",
       "        0.02511644],\n",
       "       ...,\n",
       "       [0.01044102, 0.01269843, 0.12575247, ..., 1.        , 0.01065003,\n",
       "        0.02392556],\n",
       "       [0.04017144, 0.02856891, 0.01082423, ..., 0.01065003, 1.        ,\n",
       "        0.03826221],\n",
       "       [0.03531754, 0.01847406, 0.02511644, ..., 0.02392556, 0.03826221,\n",
       "        1.        ]])"
      ]
     },
     "execution_count": 9,
     "metadata": {},
     "output_type": "execute_result"
    }
   ],
   "source": [
    "df.set_index('name', inplace=True)\n",
    "tf = TfidfVectorizer(analyzer='word', ngram_range=(1, 3), min_df=0, stop_words='english')\n",
    "tfidf_matrix = tf.fit_transform(df['desc_clean'])\n",
    "cos_sim = cosine_similarity(tfidf_matrix, tfidf_matrix)\n",
    "cos_sim"
   ]
  },
  {
   "cell_type": "code",
   "execution_count": 10,
   "id": "6d3699b4-f0f1-4ee4-995a-5ad3c8e94ae6",
   "metadata": {},
   "outputs": [
    {
     "data": {
      "text/plain": [
       "0               Capital O 253 Topas Galeria Hotel\n",
       "1                 Sheraton Bandung Hotel & Towers\n",
       "2                  OYO 794 Ln 9 Bandung Residence\n",
       "3                                OYO 226 LJ hotel\n",
       "4                         OYO 230 Maleo Residence\n",
       "5                       OYO 167 Dago's Hill Hotel\n",
       "6                  OYO 794 Ln 9 Bandung Residence\n",
       "7                      OYO 196 Horizone Residence\n",
       "8    OYO 483 Flagship Tamansari Panoramic Bandung\n",
       "9              OYO 295 Grha Ciumbuleuit Residence\n",
       "Name: name, dtype: object"
      ]
     },
     "execution_count": 10,
     "metadata": {},
     "output_type": "execute_result"
    }
   ],
   "source": [
    "indices = pd.Series(df.index)\n",
    "indices[:10]"
   ]
  },
  {
   "cell_type": "code",
   "execution_count": 11,
   "id": "59307f6f-8bb7-4066-9b7c-7d77487d2983",
   "metadata": {},
   "outputs": [],
   "source": [
    "def recommendations(name, cos_sim = cos_sim):\n",
    "    \n",
    "    recommended_hotel = []\n",
    "    \n",
    "    # Mengambil nama hotel berdasarkan variabel indicies\n",
    "    idx = indices[indices == name].index[0]\n",
    "\n",
    "    # Membuat series berdasarkan skor kesamaan\n",
    "    score_series = pd.Series(cos_sim[idx]).sort_values(ascending = False)\n",
    "\n",
    "    # mengambil index dan dibuat 10 baris rekomendasi terbaik\n",
    "    top_10_indexes = list(score_series.iloc[1:11].index)\n",
    "    \n",
    "    for i in top_10_indexes:\n",
    "        recommended_hotel.append(list(df.index)[i])\n",
    "        \n",
    "    return recommended_hotel"
   ]
  },
  {
   "cell_type": "code",
   "execution_count": 12,
   "id": "5fe6732f-ba7c-4577-8c73-228585c7a083",
   "metadata": {},
   "outputs": [
    {
     "data": {
      "text/plain": [
       "['FOX Lite Hotel Metro Indah Bandung',\n",
       " 'InterContinental Bandung Dago Pakar',\n",
       " 'Zest Sukajadi Hotel Bandung',\n",
       " 'M Premiere Hotel Dago Bandung',\n",
       " 'Ibis Bandung Pasteur',\n",
       " 'Serela Cihampelas Hotel',\n",
       " 'Grand Cordela Hotel Bandung ',\n",
       " 'Favehotel Hyper Square',\n",
       " 'HARRIS Hotel & Conventions Ciumbuleuit - Bandung',\n",
       " 'Hemangini Hotel Bandung']"
      ]
     },
     "execution_count": 12,
     "metadata": {},
     "output_type": "execute_result"
    }
   ],
   "source": [
    "recommendations('Benua Hotel')"
   ]
  },
  {
   "cell_type": "code",
   "execution_count": 13,
   "id": "190f99a8-acc0-413a-a434-add4ba890953",
   "metadata": {},
   "outputs": [
    {
     "data": {
      "text/plain": [
       "['Vio Cihampelas',\n",
       " 'Grand Sovia Hotel',\n",
       " 'Neo Dipatiukur Bandung',\n",
       " 'Grand Tjokro Bandung',\n",
       " 'HARRIS Hotel & Conventions Ciumbuleuit - Bandung',\n",
       " 'InterContinental Bandung Dago Pakar',\n",
       " 'Ibis Bandung Pasteur',\n",
       " 'Tebu Hotel Bandung',\n",
       " 'Aryaduta Bandung',\n",
       " 'Benua Hotel']"
      ]
     },
     "execution_count": 13,
     "metadata": {},
     "output_type": "execute_result"
    }
   ],
   "source": [
    "recommendations(\"Serela Cihampelas Hotel\")"
   ]
  },
  {
   "cell_type": "code",
   "execution_count": 14,
   "id": "ddafc57e-bda8-4e10-bf70-7b66ba690749",
   "metadata": {},
   "outputs": [
    {
     "data": {
      "text/plain": [
       "['UTC Bandung',\n",
       " 'Amaris Hotel Setiabudhi - Bandung',\n",
       " 'M Premiere Hotel Dago Bandung',\n",
       " 'Aston Pasteur',\n",
       " 'YELLO Hotel Paskal Bandung',\n",
       " 'Green Batara Hotel',\n",
       " 'Grand Cordela Hotel Bandung ',\n",
       " 'El Cavana Bandung',\n",
       " 'Zest Sukajadi Hotel Bandung',\n",
       " 'Meize Hotel Bandung']"
      ]
     },
     "execution_count": 14,
     "metadata": {},
     "output_type": "execute_result"
    }
   ],
   "source": [
    "recommendations('Hemangini Hotel Bandung')"
   ]
  },
  {
   "cell_type": "code",
   "execution_count": null,
   "id": "0f3f1142-2926-491b-91c4-295afd27bdad",
   "metadata": {},
   "outputs": [],
   "source": []
  }
 ],
 "metadata": {
  "kernelspec": {
   "display_name": "Python 3 (ipykernel)",
   "language": "python",
   "name": "python3"
  },
  "language_info": {
   "codemirror_mode": {
    "name": "ipython",
    "version": 3
   },
   "file_extension": ".py",
   "mimetype": "text/x-python",
   "name": "python",
   "nbconvert_exporter": "python",
   "pygments_lexer": "ipython3",
   "version": "3.7.9"
  }
 },
 "nbformat": 4,
 "nbformat_minor": 5
}
